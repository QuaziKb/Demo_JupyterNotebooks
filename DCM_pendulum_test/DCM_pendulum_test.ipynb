{
 "cells": [
  {
   "cell_type": "code",
   "execution_count": 1,
   "metadata": {},
   "outputs": [
    {
     "data": {
      "text/html": [
       "<div id=\"glowscript\" class=\"glowscript\"></div>"
      ],
      "text/plain": [
       "<IPython.core.display.HTML object>"
      ]
     },
     "metadata": {},
     "output_type": "display_data"
    },
    {
     "data": {
      "application/javascript": [
       "if (typeof Jupyter !== \"undefined\") { window.__context = { glowscript_container: $(\"#glowscript\").removeAttr(\"id\")};}else{ element.textContent = ' ';}"
      ],
      "text/plain": [
       "<IPython.core.display.Javascript object>"
      ]
     },
     "metadata": {},
     "output_type": "display_data"
    },
    {
     "name": "stdout",
     "output_type": "stream",
     "text": [
      "[ 1.000000e+00 -6.123234e-17  0.000000e+00  6.123234e-17  1.000000e+00\n",
      "  0.000000e+00  0.000000e+00  0.000000e+00  1.000000e+00  0.000000e+00\n",
      "  0.000000e+00  0.000000e+00  0.000000e+00  0.000000e+00  0.000000e+00\n",
      "  0.000000e+00  0.000000e+00  0.000000e+00]\n"
     ]
    },
    {
     "name": "stderr",
     "output_type": "stream",
     "text": [
      "C:\\miniconda\\envs\\tensorflow_gpuenv\\lib\\site-packages\\numpy\\core\\numeric.py:501: ComplexWarning: Casting complex values to real discards the imaginary part\n",
      "  return array(a, dtype, copy=False, order=order)\n"
     ]
    },
    {
     "name": "stdout",
     "output_type": "stream",
     "text": [
      "num fev: 1340\n"
     ]
    },
    {
     "data": {
      "application/javascript": [
       "if (typeof Jupyter !== \"undefined\") {require.undef(\"nbextensions/vpython_libraries/glow.min\");}else{element.textContent = ' ';}"
      ],
      "text/plain": [
       "<IPython.core.display.Javascript object>"
      ]
     },
     "metadata": {},
     "output_type": "display_data"
    },
    {
     "data": {
      "application/javascript": [
       "if (typeof Jupyter !== \"undefined\") {require.undef(\"nbextensions/vpython_libraries/glowcomm\");}else{element.textContent = ' ';}"
      ],
      "text/plain": [
       "<IPython.core.display.Javascript object>"
      ]
     },
     "metadata": {},
     "output_type": "display_data"
    },
    {
     "data": {
      "application/javascript": [
       "if (typeof Jupyter !== \"undefined\") {require.undef(\"nbextensions/vpython_libraries/jquery-ui.custom.min\");}else{element.textContent = ' ';}"
      ],
      "text/plain": [
       "<IPython.core.display.Javascript object>"
      ]
     },
     "metadata": {},
     "output_type": "display_data"
    },
    {
     "data": {
      "application/javascript": [
       "if (typeof Jupyter !== \"undefined\") {require([\"nbextensions/vpython_libraries/glow.min\"], function(){console.log(\"GLOW LOADED\");});}else{element.textContent = ' ';}"
      ],
      "text/plain": [
       "<IPython.core.display.Javascript object>"
      ]
     },
     "metadata": {},
     "output_type": "display_data"
    },
    {
     "data": {
      "application/javascript": [
       "if (typeof Jupyter !== \"undefined\") {require([\"nbextensions/vpython_libraries/glowcomm\"], function(){console.log(\"GLOWCOMM LOADED\");});}else{element.textContent = ' ';}"
      ],
      "text/plain": [
       "<IPython.core.display.Javascript object>"
      ]
     },
     "metadata": {},
     "output_type": "display_data"
    },
    {
     "data": {
      "application/javascript": [
       "if (typeof Jupyter !== \"undefined\") {require([\"nbextensions/vpython_libraries/jquery-ui.custom.min\"], function(){console.log(\"JQUERY LOADED\");});}else{element.textContent = ' ';}"
      ],
      "text/plain": [
       "<IPython.core.display.Javascript object>"
      ]
     },
     "metadata": {},
     "output_type": "display_data"
    },
    {
     "name": "stdout",
     "output_type": "stream",
     "text": [
      "(18, 1000) (1000,)\n"
     ]
    }
   ],
   "source": [
    "from scipy.integrate import solve_ivp\n",
    "from scipy.linalg import polar\n",
    "import matplotlib\n",
    "from matplotlib import pyplot as plt\n",
    "#use tex font\n",
    "matplotlib.rcParams['mathtext.fontset'] = 'stix'\n",
    "matplotlib.rcParams['font.family'] = 'STIXGeneral'\n",
    "matplotlib.rcParams.update({'font.size': 12})\n",
    "import numpy as np\n",
    "import vpython as v\n",
    "#constants\n",
    "g=1\n",
    "l=1\n",
    "m=1\n",
    "##########\n",
    "\n",
    "#q =\n",
    "#    cba11\n",
    "#    cba21\n",
    "#    cba31\n",
    "#    cba12\n",
    "#    cba22\n",
    "#    cba32\n",
    "#    cba13\n",
    "#    cba23\n",
    "#    cba33\n",
    "\n",
    "#helper variables\n",
    "gvec = np.array([0, -g, 0]).astype(np.complex128)\n",
    "rpwFb = np.array([l, 0, 0]).astype(np.complex128)\n",
    "qTest = np.array([11,21,31,12,22,32,13,23,33]).astype(np.complex128)\n",
    "qdim = qTest.shape[0]\n",
    "Ze_1x3 = np.zeros([1,3]).astype(np.complex128)\n",
    "Ze_3x1 = np.zeros([3,1]).astype(np.complex128)\n",
    "I_3x3 = np.identity(3).astype(np.complex128)\n",
    "I_1 = I_3x3[0,None].T\n",
    "I_2 = I_3x3[1,None].T\n",
    "I_3 = I_3x3[2,None].T\n",
    "\n",
    "def CrossOp(v):\n",
    "    skv = np.roll(np.roll(np.diag(v.flatten()), 1, 1), -1, 0)\n",
    "    return skv - skv.T\n",
    "#print(CrossOp(v.T))\n",
    "\n",
    "def evalS(q):\n",
    "    CbaT = q.reshape([3,3]).T\n",
    "    cba1 = CbaT[:, 0,None]\n",
    "    cba2 = CbaT[:, 1,None]\n",
    "    cba3 = CbaT[:, 2,None]\n",
    "    S = np.block([\n",
    "        [Ze_1x3, cba3.T, Ze_1x3],\n",
    "        [Ze_1x3, Ze_1x3, cba1.T],\n",
    "        [cba2.T, Ze_1x3, Ze_1x3]\n",
    "    ])\n",
    "    #print(S)\n",
    "    return S\n",
    "\n",
    "def evalXi(q):\n",
    "    CbaT = q.reshape([3,3]).T\n",
    "    cba1 = CbaT[:, 0,None]\n",
    "    cba2 = CbaT[:, 1,None]\n",
    "    cba3 = CbaT[:, 2,None]\n",
    "    Xi = np.block([\n",
    "        [2 * cba1.T, Ze_1x3, Ze_1x3],\n",
    "        [Ze_1x3, 2 * cba2.T, Ze_1x3],\n",
    "        [cba2.T,     cba1.T, Ze_1x3],\n",
    "        [CrossOp(-1*cba2), CrossOp(cba1), -1*I_3x3]\n",
    "    ])\n",
    "    #print(Xi)\n",
    "    return Xi\n",
    "\n",
    "#undifferentiated DCM constraint used for stabilizing\n",
    "def evalPhi(q):\n",
    "    CbaT = q.reshape([3,3]).T\n",
    "    cba1 = CbaT[:, 0,None]\n",
    "    cba2 = CbaT[:, 1,None]\n",
    "    cba3 = CbaT[:, 2,None]\n",
    "    Phi = np.block([\n",
    "        [cba1.T.dot(cba1) - 1],\n",
    "        [cba2.T.dot(cba2) - 1],\n",
    "        [cba2.T.dot(cba1)],\n",
    "        [CrossOp(cba1)@cba2-cba3]\n",
    "    ])\n",
    "    return Phi.T[0]\n",
    "\n",
    "def evalSTMS(q):\n",
    "    S = evalS(q)\n",
    "    M = m*l*l*np.identity(3)#*-m*l*l*CrossOp(I_1)@CrossOp(I_1))\n",
    "    M[0,0] = 0.001*m #-> inertia about an axis of zero seemed to cause the matrix to be singular. DCM wont play nice with 0 inertia along an axis\n",
    "    STMS = S.T @ M @ S\n",
    "    return STMS\n",
    "#print('CROSSY',CrossOp(I_1)@CrossOp(I_1))\n",
    "#print(qTest.reshape([3,3]).T)\n",
    "#print(qTest.reshape([3,3]).T@rpwFb)\n",
    "#print(qTest.reshape([3,3]).T[0,1])\n",
    "\n",
    "def evalLagrangian(q,qd):\n",
    "    CbaT = q.reshape([3,3]).T\n",
    "    Upw = -m*gvec.dot(CbaT @ rpwFb) #where is the sign error coming from? -> i forgot -m*l*l*CrossOp(I_1)@CrossOp(I_1)) is positive along diagonal, but -m*l*l*np.identity(3) isnt\n",
    "    #print(np.real(Upw))\n",
    "    STMS = evalSTMS(q)\n",
    "    Tpwa = 0.5*(qd @ STMS @ qd)\n",
    "    Lpwa = Tpwa-Upw\n",
    "    return Lpwa\n",
    "\n",
    "def q_from_theta(theta):\n",
    "    q = np.array([\n",
    "        np.sin(theta),\n",
    "        -np.cos(theta),\n",
    "        0,\n",
    "\n",
    "        np.cos(theta),\n",
    "        np.sin(theta),\n",
    "        0,\n",
    "\n",
    "        0,\n",
    "        0,\n",
    "        1,\n",
    "    ])\n",
    "    return q\n",
    "###############################\n",
    "STMS_template = evalSTMS(qTest)\n",
    "Xi_template = evalXi(qTest)\n",
    "Xidim = Xi_template.shape[0] #number of lagrange multipliers\n",
    "I_qdim = np.identity(qdim)\n",
    "Ze_Xidim = np.zeros([Xidim,Xidim])\n",
    "###############################\n",
    "#numerical differencing\n",
    "hstep = 0.00000000001\n",
    "def evalSTMS_dot(q,qd):\n",
    "    #use complex step to get the time derivative. based on multivariate chain rule\n",
    "    M_dot = np.zeros_like(STMS_template,dtype=np.complex128)\n",
    "    for col in range(qdim):\n",
    "        M_dot += (np.imag(evalSTMS(q+I_qdim[col]*hstep*1j))/hstep)*qd[col]\n",
    "    return M_dot\n",
    "def evalXi_dot(q,qd):\n",
    "    #use complex step to get the time derivative. based on multivariate chain rule\n",
    "    Xi_dot = np.zeros_like(Xi_template,dtype=np.complex128)\n",
    "    for col in range(qdim):\n",
    "        Xi_dot += (np.imag(evalXi(q+I_qdim[col]*hstep*1j))/hstep)*qd[col]\n",
    "    return Xi_dot\n",
    "def evalLpqT(q,qd):\n",
    "    LpqT = np.zeros(qdim,dtype=np.complex128)\n",
    "    for col in range(qdim):\n",
    "        LpqT[col] = np.imag(evalLagrangian(q+I_qdim[col]*hstep*1j,qd))/hstep\n",
    "    return LpqT\n",
    "\n",
    "#Q = [q,qd]\n",
    "def dQdt(t,Q):\n",
    "    #print(t)\n",
    "    q = Q[0:qdim]\n",
    "    CbaT = q.reshape([3,3]).T\n",
    "    #u, p = polar(CbaT)\n",
    "    # print('@@@@@@@@@@@@@@@@@@@@@@@@@@@@')\n",
    "    # print(np.real(q))\n",
    "    # q = u.T.flatten()\n",
    "    # print(np.real(q))\n",
    "    #print(np.real(CbaT))\n",
    "    #print(np.real(u))\n",
    "    ##print('DONE')\n",
    "    #print('projecting')\n",
    "    #print(np.real(q))\n",
    "    #q = p.reshape([qdim])\n",
    "    #print(np.real(q))\n",
    "    #q = p.reshape(qdim)\n",
    "\n",
    "    qd = Q[qdim:qdim*2]\n",
    "    #print(q)\n",
    "    #evaluate necessary stuff\n",
    "    Xi= evalXi(q)\n",
    "    Phi = evalPhi(q)\n",
    "    STMS= evalSTMS(q)\n",
    "    STMS_dot = evalSTMS_dot(q,qd)\n",
    "    Xi_dot = evalXi_dot(q,qd)\n",
    "    LpqT=evalLpqT(q,qd)\n",
    "    A = np.block([\n",
    "        [STMS,-Xi.T],\n",
    "        [-Xi,Ze_Xidim]\n",
    "    ])\n",
    "    #print('DET A',np.linalg.det(np.real(A)))\n",
    "    #print(np.linalg.det(np.real(Xi@Xi.T)))\n",
    "    #print(A)\n",
    "    # print(LpqT.shape)\n",
    "    # print((STMS_dot@qd).shape)\n",
    "    # print((Xi_dot@qd).shape)\n",
    "    alpha = 0.2\n",
    "    beta = alpha*alpha\n",
    "    b = np.concatenate((\n",
    "        LpqT-STMS_dot@qd,\n",
    "        #Investigation_on_the_Baumgarte_Stabilization_Method_for_Dynamic_Analysis_of_Constrained_Multibody_Systems\n",
    "        Xi_dot@qd+Xi@qd*alpha*2+Phi*beta\n",
    "    ))\n",
    "    # print(A.shape)\n",
    "    # print(b.shape)\n",
    "    solN = np.linalg.solve(A,b)\n",
    "    Qd = np.concatenate((qd,solN[0:qdim]))\n",
    "    return Qd\n",
    "\n",
    "#ground truth pendulum solution\n",
    "def PendulumTheta(t, theta):\n",
    "    return [\n",
    "            #d/dt(position)\n",
    "            theta[1],\n",
    "            #d/dt(velocity)\n",
    "            (-g/l)*np.sin(theta[0])\n",
    "            ]\n",
    "\n",
    "ODE_tspan = [0, 100]\n",
    "ODE_teval = np.linspace(ODE_tspan[0],ODE_tspan[1],1000)\n",
    "ODE_IC = [np.pi*0.5,0]\n",
    "qd = np.zeros(qdim)\n",
    "#qd[2] = 1\n",
    "DCM_IC = np.concatenate((q_from_theta(ODE_IC[0]),qd))\n",
    "print(DCM_IC)\n",
    "sol_theta = solve_ivp(\n",
    "    fun=PendulumTheta,\n",
    "    t_span=ODE_tspan,\n",
    "    y0=ODE_IC,\n",
    "    t_eval = ODE_teval,\n",
    "    #max_step = 0.05\n",
    ")\n",
    "#it looks like this actually does work.\n",
    "sol_DCM = solve_ivp(\n",
    "    fun=dQdt,\n",
    "    t_span=ODE_tspan,\n",
    "    y0=DCM_IC,\n",
    "    t_eval = ODE_teval,\n",
    "    #max_step = 0.05\n",
    ")\n",
    "print('num fev:',sol_DCM.nfev)\n",
    "\n",
    "######################## 3D viz\n",
    "v.scene.width = v.scene.height = 600\n",
    "\n",
    "class PendulumSolution:\n",
    "  def __init__(self,Zoffset,name,color):\n",
    "    self.name = name\n",
    "\n",
    "    self.W = v.sphere(pos=v.vec(0,0,Zoffset),\n",
    "                  radius=0.1,\n",
    "                  color=v.vec(0.4, 0.4, 0.5))\n",
    "\n",
    "    self.P = v.sphere(pos=v.vec(l,0,Zoffset),\n",
    "                  radius=0.1,\n",
    "                  color=v.vec(color[0],color[1],color[2]),\n",
    "                  make_trail=True,\n",
    "                  interval=1,\n",
    "                  retain=50)\n",
    "    self.bar = v.cylinder( pos = v.vec(0,0,Zoffset),\n",
    "                  size=v.vec(1, 0.05, 0.05),\n",
    "                  color=v.vec(0.4, 0.4, 0.5))\n",
    "    self.bar.start = self.W\n",
    "    self.bar.end = self.P\n",
    "    self.tip_positions = np.zeros([ODE_teval.shape[0],3])\n",
    "    self.tip_positions[:,2] = Zoffset\n",
    "\n",
    "GT = PendulumSolution(-0.1,'GT',[1,0,0])\n",
    "GT.tip_positions[:,0] = np.sin(sol_theta.y[0])*l\n",
    "GT.tip_positions[:,1] = -np.cos(sol_theta.y[0])*l\n",
    "\n",
    "DCMpen = PendulumSolution(0.1,'GT',[0,1,0])\n",
    "print(sol_DCM.y.shape,ODE_teval.shape)\n",
    "for tindex,t in enumerate(sol_DCM.t):\n",
    "    q = sol_DCM.y[0:qdim,tindex]\n",
    "    CbaT = q.reshape([3,3]).T\n",
    "    pos = CbaT@np.array([l,0,0])\n",
    "    DCMpen.tip_positions[tindex,:] = pos\n",
    "#print(DCMpen.tip_positions[:,1])\n",
    "b1 = v.arrow(\n",
    "    pos=v.vector(0,0,0),\n",
    "    axis=v.vector(1,0,0),\n",
    "    shaftwidth=0.01,\n",
    "    color=v.color.red)\n",
    "b2 = v.arrow(\n",
    "    pos=v.vector(0,0,0),\n",
    "    axis=v.vector(1,0,0),\n",
    "    shaftwidth=0.01,\n",
    "    color=v.color.green)\n",
    "b3 = v.arrow(\n",
    "    pos=v.vector(0,0,0),\n",
    "    axis=v.vector(1,0,0),\n",
    "    shaftwidth=0.01,\n",
    "    color=v.color.blue)\n",
    "\n",
    "solns = [GT,DCMpen]\n",
    "\n",
    "#####################display\n",
    "\n",
    "# fig = plt.figure()\n",
    "# ax = plt.subplot(111)\n",
    "# for line in range(sol_theta.y.shape[0]):\n",
    "#     ax.plot(sol_theta.t, sol_theta.y[line], label='$y_{' + str(line) + '}$')\n",
    "# ax.legend(loc = 'upper right')\n",
    "# plt.title('Pendulum')\n",
    "# plt.ylabel('y')\n",
    "# plt.xlabel('t (s)')\n",
    "# plt.show()\n",
    "\n",
    "\n",
    "rate = 60\n",
    "playback_rate = 3 #x real time\n",
    "playback_dt = playback_rate/rate\n",
    "t = 0\n",
    "time = ODE_tspan[0]"
   ]
  },
  {
   "cell_type": "code",
   "execution_count": null,
   "metadata": {},
   "outputs": [],
   "source": [
    "while True:\n",
    "    #print('t')\n",
    "    v.rate(rate)\n",
    "\n",
    "    for sol in solns:\n",
    "        curr_pos_x = np.interp(time, sol_theta.t, sol.tip_positions[:, 0])\n",
    "        curr_pos_y = np.interp(time, sol_theta.t, sol.tip_positions[:, 1])\n",
    "        curr_pos_z = np.interp(time, sol_theta.t, sol.tip_positions[:, 2])\n",
    "\n",
    "        sol.P.pos = v.vec(\n",
    "            curr_pos_x,\n",
    "            curr_pos_y,\n",
    "            curr_pos_z\n",
    "        )\n",
    "        sol.bar.axis = sol.bar.end.pos - sol.bar.start.pos\n",
    "\n",
    "    cba11= np.interp(time, sol_DCM.t, sol_DCM.y[0])\n",
    "    cba21= np.interp(time, sol_DCM.t, sol_DCM.y[1])\n",
    "    cba31= np.interp(time, sol_DCM.t, sol_DCM.y[2])\n",
    "    cba12= np.interp(time, sol_DCM.t, sol_DCM.y[3])\n",
    "    cba22= np.interp(time, sol_DCM.t, sol_DCM.y[4])\n",
    "    cba32= np.interp(time, sol_DCM.t, sol_DCM.y[5])\n",
    "    cba13= np.interp(time, sol_DCM.t, sol_DCM.y[6])\n",
    "    cba23= np.interp(time, sol_DCM.t, sol_DCM.y[7])\n",
    "    cba33= np.interp(time, sol_DCM.t, sol_DCM.y[8])\n",
    "\n",
    "    b1.pos = DCMpen.P.pos\n",
    "    b2.pos = DCMpen.P.pos\n",
    "    b3.pos = DCMpen.P.pos\n",
    "\n",
    "    b1.axis = v.vec(cba11, cba21, cba31)\n",
    "    b2.axis = v.vec(cba12, cba22, cba32)\n",
    "    b3.axis = v.vec(cba13, cba23, cba33)\n",
    "\n",
    "    t = (t + playback_dt)%(ODE_tspan[1]-ODE_tspan[0])\n",
    "    time = ODE_tspan[0]+t"
   ]
  }
 ],
 "metadata": {
  "kernelspec": {
   "display_name": "Python 3",
   "language": "python",
   "name": "python3"
  },
  "language_info": {
   "codemirror_mode": {
    "name": "ipython",
    "version": 3
   },
   "file_extension": ".py",
   "mimetype": "text/x-python",
   "name": "python",
   "nbconvert_exporter": "python",
   "pygments_lexer": "ipython3",
   "version": "3.6.7"
  }
 },
 "nbformat": 4,
 "nbformat_minor": 2
}
